{
 "cells": [
  {
   "cell_type": "code",
   "execution_count": 1,
   "metadata": {},
   "outputs": [
    {
     "name": "stderr",
     "output_type": "stream",
     "text": [
      "2025-02-11 09:33:23.528 Python[40085:7460182] +[IMKClient subclass]: chose IMKClient_Modern\n",
      "2025-02-11 09:33:23.528 Python[40085:7460182] +[IMKInputSession subclass]: chose IMKInputSession_Modern\n"
     ]
    },
    {
     "ename": "SystemExit",
     "evalue": "0",
     "output_type": "error",
     "traceback": [
      "An exception has occurred, use %tb to see the full traceback.\n",
      "\u001b[0;31mSystemExit\u001b[0m\u001b[0;31m:\u001b[0m 0\n"
     ]
    },
    {
     "name": "stderr",
     "output_type": "stream",
     "text": [
      "/Users/Nick/GitHub/.venv/lib/python3.11/site-packages/IPython/core/interactiveshell.py:3585: UserWarning: To exit: use 'exit', 'quit', or Ctrl-D.\n",
      "  warn(\"To exit: use 'exit', 'quit', or Ctrl-D.\", stacklevel=1)\n"
     ]
    }
   ],
   "source": [
    "import sys\n",
    "import random\n",
    "from PyQt5.QtWidgets import QApplication, QWidget, QVBoxLayout, QPushButton, QLabel, QLineEdit\n",
    "from PyQt5.QtCore import QTimer\n",
    "\n",
    "class RandomNoteApp(QWidget):\n",
    "    \"\"\"\n",
    "    A PyQt5 application that displays random musical notes at a user-specified interval.\n",
    "    \n",
    "    Features:\n",
    "    - Choose between all musical notes or only whole notes.\n",
    "    - Adjustable time interval between note displays (default: 10 seconds).\n",
    "    - Simple UI with buttons to start and exit the application.\n",
    "    \"\"\"\n",
    "    def __init__(self):\n",
    "        super().__init__()\n",
    "        self.setWindowTitle(\"Random Music Note\")\n",
    "        self.setGeometry(100, 100, 400, 300)\n",
    "        \n",
    "        self.whole_notes = [\"A\", \"B\", \"C\", \"D\", \"E\", \"F\", \"G\"]\n",
    "        self.all_notes = [\"A\", \"A#\", \"Bb\", \"B\", \"C\", \"C#\", \"Db\", \"D\", \"D#\", \"Eb\", \"E\", \"F\", \"F#\", \"Gb\", \"G\", \"G#\", \"Ab\"]\n",
    "        self.current_notes = []\n",
    "        self.interval = 10  # default interval in seconds\n",
    "        \n",
    "        self.layout = QVBoxLayout()\n",
    "        \n",
    "        self.label = QLabel(\"Select An Option to Start\", self)\n",
    "        self.label.setStyleSheet(\"font-size: 40px; text-align: center;\")\n",
    "        self.layout.addWidget(self.label)\n",
    "\n",
    "        self.interval_label = QLabel(\"Time Interval (Seconds):\", self)\n",
    "        self.layout.addWidget(self.interval_label)\n",
    "        \n",
    "        self.interval_input = QLineEdit(self)\n",
    "        self.interval_input.setPlaceholderText(\"Enter interval (Seconds)\")\n",
    "        self.interval_input.setText(str(self.interval))\n",
    "        self.layout.addWidget(self.interval_input)\n",
    "        \n",
    "        self.all_notes_button = QPushButton(\"All Notes\", self)\n",
    "        self.all_notes_button.clicked.connect(lambda: self.start_game(self.all_notes))\n",
    "        self.layout.addWidget(self.all_notes_button)\n",
    "        \n",
    "        self.whole_notes_button = QPushButton(\"Whole Notes\", self)\n",
    "        self.whole_notes_button.clicked.connect(lambda: self.start_game(self.whole_notes))\n",
    "        self.layout.addWidget(self.whole_notes_button)\n",
    "        \n",
    "        self.exit_button = QPushButton(\"Exit\", self)\n",
    "        self.exit_button.clicked.connect(self.close)\n",
    "        self.layout.addWidget(self.exit_button)\n",
    "        \n",
    "        self.setLayout(self.layout)\n",
    "        \n",
    "        self.timer = QTimer(self)\n",
    "        self.timer.timeout.connect(self.show_next_note)\n",
    "    \n",
    "    def start_game(self, notes):\n",
    "        \"\"\"\n",
    "        Starts the note display cycle, shuffling the notes and setting the timer interval.\n",
    "        \n",
    "        Parameters:\n",
    "        notes (list): List of musical notes to display.\n",
    "        \"\"\"\n",
    "        try:\n",
    "            self.interval = int(self.interval_input.text()) * 1000  # convert to milliseconds\n",
    "            if self.interval <= 0:\n",
    "                self.interval = 10000  # reset to default if invalid\n",
    "        except ValueError:\n",
    "            self.interval = 10000  # reset to default if input is not a number\n",
    "        \n",
    "        self.current_notes = notes[:]\n",
    "        random.shuffle(self.current_notes)\n",
    "        self.show_next_note()\n",
    "        self.timer.start(self.interval)\n",
    "    \n",
    "    def show_next_note(self):\n",
    "        \"\"\"\n",
    "        Displays the next note in the shuffled list. Stops when all notes have been displayed.\n",
    "        \"\"\"\n",
    "        if self.current_notes:\n",
    "            note = self.current_notes.pop(0)\n",
    "            self.label.setText(note)\n",
    "        else:\n",
    "            self.label.setText(\"All Notes Displayed!\")\n",
    "            self.timer.stop()\n",
    "\n",
    "if __name__ == \"__main__\":\n",
    "    app = QApplication(sys.argv)\n",
    "    window = RandomNoteApp()\n",
    "    window.show()\n",
    "    sys.exit(app.exec_())\n"
   ]
  }
 ],
 "metadata": {
  "kernelspec": {
   "display_name": ".venv",
   "language": "python",
   "name": "python3"
  },
  "language_info": {
   "codemirror_mode": {
    "name": "ipython",
    "version": 3
   },
   "file_extension": ".py",
   "mimetype": "text/x-python",
   "name": "python",
   "nbconvert_exporter": "python",
   "pygments_lexer": "ipython3",
   "version": "3.11.6"
  }
 },
 "nbformat": 4,
 "nbformat_minor": 2
}
